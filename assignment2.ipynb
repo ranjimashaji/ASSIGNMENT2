{
 "cells": [
  {
   "cell_type": "markdown",
   "metadata": {},
   "source": [
    "# QUESTION1"
   ]
  },
  {
   "cell_type": "code",
   "execution_count": 6,
   "metadata": {},
   "outputs": [
    {
     "name": "stdout",
     "output_type": "stream",
     "text": [
      "1\n",
      "2\n",
      "3\n",
      "4\n",
      "7\n",
      "10\n",
      "45\n",
      "23\n",
      "9\n",
      "11\n",
      "[2, 4, 10]\n"
     ]
    }
   ],
   "source": [
    "l=[]\n",
    "t=10\n",
    "for i in range(1,t+1):\n",
    "    num=int(input())\n",
    "    if num%2==0:\n",
    "        l.append(num )    \n",
    "print (l)"
   ]
  },
  {
   "cell_type": "markdown",
   "metadata": {},
   "source": [
    "# QUESTION2- List Comprehension"
   ]
  },
  {
   "cell_type": "raw",
   "metadata": {},
   "source": [
    "List Iteration through for loop\n"
   ]
  },
  {
   "cell_type": "code",
   "execution_count": 5,
   "metadata": {},
   "outputs": [
    {
     "name": "stdout",
     "output_type": "stream",
     "text": [
      "['c', 'o', 'm', 'p', 'r', 'e', 'h', 'e', 'n', 's', 'i', 'o', 'n']\n"
     ]
    }
   ],
   "source": [
    "l = []\n",
    "for i in 'comprehension':\n",
    "    l.append(i)\n",
    "print(l)"
   ]
  },
  {
   "cell_type": "code",
   "execution_count": 8,
   "metadata": {},
   "outputs": [
    {
     "name": "stdout",
     "output_type": "stream",
     "text": [
      "C\n",
      "O\n",
      "M\n",
      "P\n",
      "R\n",
      "E\n",
      "H\n",
      "E\n",
      "N\n"
     ]
    }
   ],
   "source": [
    "#printing uppercase for strings in list\n",
    "l=['c','o','m','p','r','e','h','e','n']\n",
    "for i in l:\n",
    "    print(i.upper())"
   ]
  },
  {
   "cell_type": "markdown",
   "metadata": {},
   "source": [
    "# QUESTION3"
   ]
  },
  {
   "cell_type": "code",
   "execution_count": 15,
   "metadata": {},
   "outputs": [
    {
     "name": "stdout",
     "output_type": "stream",
     "text": [
      "8\n",
      "{1: 1, 2: 4, 3: 9, 4: 16, 5: 25, 6: 36, 7: 49, 8: 64}\n"
     ]
    }
   ],
   "source": [
    "d={}\n",
    "n=int(input())\n",
    "for i in range(1,n+1):\n",
    "    d[i]=i*i\n",
    "print(d)"
   ]
  },
  {
   "cell_type": "markdown",
   "metadata": {},
   "source": [
    "# QUESTION4"
   ]
  },
  {
   "cell_type": "code",
   "execution_count": null,
   "metadata": {},
   "outputs": [],
   "source": [
    "#number of directions\n",
    "n=int(input())\n",
    "p = {\"x\":0,\"y\":0}\n",
    "for i in range(n):\n",
    "    y=str(input().upper())\n",
    "    v=int(input())\n",
    "    #print(y,end=\" \")\n",
    "    #print(v)\n",
    "    if y[0] == \"UP\":             \n",
    "        p[\"y\"] += v    \n",
    "    if y[0] == \"DOWN\":\n",
    "        p[\"y\"] -= v\n",
    "    if y[0] == \"LEFT\":\n",
    "        p[\"x\"] -= v\n",
    "    if y[0] == \"RIGHT\":\n",
    "        p[\"x\"] += v\n",
    "print (int(round((p[\"x\"]**2 + p[\"y\"]**2)**0.5)))"
   ]
  },
  {
   "cell_type": "code",
   "execution_count": null,
   "metadata": {},
   "outputs": [],
   "source": []
  },
  {
   "cell_type": "code",
   "execution_count": null,
   "metadata": {},
   "outputs": [],
   "source": []
  }
 ],
 "metadata": {
  "kernelspec": {
   "display_name": "Python 3",
   "language": "python",
   "name": "python3"
  },
  "language_info": {
   "codemirror_mode": {
    "name": "ipython",
    "version": 3
   },
   "file_extension": ".py",
   "mimetype": "text/x-python",
   "name": "python",
   "nbconvert_exporter": "python",
   "pygments_lexer": "ipython3",
   "version": "3.8.3"
  }
 },
 "nbformat": 4,
 "nbformat_minor": 4
}
